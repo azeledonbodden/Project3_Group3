{
 "cells": [
  {
   "cell_type": "code",
   "execution_count": null,
   "metadata": {},
   "outputs": [],
   "source": [
    "#Set a database URL\n",
    "from sqlalchemy.engine.url import URL\n",
    "\n",
    "postgres_db = {'drivername': 'postgres',\n",
    "               'username': 'postgres',\n",
    "               'password': 'postgres',\n",
    "               'host': '192.168.99.100',\n",
    "               'port': 5432}\n",
    "print(URL(**postgres_db))\n",
    "\n",
    "sqlite_db = {'drivername': 'sqlite', 'database': 'db.flightsqlite'}\n",
    "print(URL(**sqlite_db))"
   ]
  },
  {
   "cell_type": "code",
   "execution_count": null,
   "metadata": {},
   "outputs": [],
   "source": [
    "#Create a database housed in memory--no file\n",
    "import sqlalchemy\n",
    "sqlalchemy.create_engine('sqlite:///db.flightsqlite')"
   ]
  },
  {
   "cell_type": "code",
   "execution_count": null,
   "metadata": {},
   "outputs": [],
   "source": [
    "from sqlalchemy import create_engine\n",
    "\n",
    "#Create Engine\n",
    "DBInfo = 'sqlite:///db.flightsqlite'\n",
    "engine = create_engine('sqlite:///db.flightsqlite')\n",
    "\n",
    "#Connect to the database\n",
    "conn = engine.connect()"
   ]
  },
  {
   "cell_type": "code",
   "execution_count": null,
   "metadata": {},
   "outputs": [],
   "source": [
    "#Create Specific Table\n",
    "from sqlalchemy import create_engine\n",
    "from sqlalchemy import MetaData\n",
    "from sqlalchemy import Table\n",
    "from sqlalchemy import Column\n",
    "from sqlalchemy import Integer, String, Date\n",
    "from sqlalchemy import ForeignKey\n",
    "\n",
    "meta = MetaData(engine)\n",
    "t1 = Table('NumFlights_Data', meta,\n",
    "           Column('ID', Integer, primary_key=True),\n",
    "           Column('ORIGIN',String),\n",
    "           Column('FL_DATE',Date),\n",
    "           Column('FLIGHTS',Integer))\n",
    "t2 = Table('Flights_Data', meta,\n",
    "           Column('ID', Integer, primary_key=True),\n",
    "           Column('ORIGIN', String, ForeignKey(\"NumFlights_Data.ORIGIN\")),\n",
    "           Column('DEST',String),\n",
    "           Column('DISTANCE',Integer))\n",
    "t1.create()\n",
    "t2.create()\n",
    "\n",
    "# Create all tables in meta\n",
    "meta.create_all()\n",
    "\n",
    "# insert multiple data\n",
    "conn.execute(NumFlights_Data.insert(),[\n",
    "    {'ORIGIN':'LAX','FL_DATE':'2017-05-01','FLIGHTS':'1.00'},\n",
    "    {'ORIGIN':'LAX','FL_DATE':'2017-05-01','FLIGHTS':'1.00'},\n",
    "    {'ORIGIN':'SAN','FL_DATE':'2017-05-01','FLIGHTS':'1.00'},\n",
    "    {'ORIGIN':'SFO','FL_DATE':'2017-05-01','FLIGHTS':'1.00'},\n",
    "    {'ORIGIN':'JFK','FL_DATE':'2017-05-01','FLIGHTS':'1.00'}])\n",
    "\n",
    "\n",
    "# insert multiple data\n",
    "#conn.execute(table.insert(),[\n",
    "conn.execute(Flights_Data.insert(),[\n",
    "    {'DEST':'IAD','DISTANCE':'2288.00'},\n",
    "    {'DEST':'IAD','DISTANCE':'2288.00'},\n",
    "    {'DEST':'SFO','DISTANCE':'447.00'},\n",
    "    {'DEST':'EWR','DISTANCE':'2565.00'},\n",
    "    {'DEST':'SFO','DISTANCE':'2586.00'},])\n"
   ]
  }
 ],
 "metadata": {
  "kernelspec": {
   "display_name": "Python 3",
   "language": "python",
   "name": "python3"
  },
  "language_info": {
   "codemirror_mode": {
    "name": "ipython",
    "version": 3
   },
   "file_extension": ".py",
   "mimetype": "text/x-python",
   "name": "python",
   "nbconvert_exporter": "python",
   "pygments_lexer": "ipython3",
   "version": "3.6.3"
  }
 },
 "nbformat": 4,
 "nbformat_minor": 2
}
